{
 "cells": [
  {
   "cell_type": "code",
   "execution_count": 2,
   "metadata": {},
   "outputs": [
    {
     "name": "stdout",
     "output_type": "stream",
     "text": [
      "Hello World\n"
     ]
    }
   ],
   "source": [
    "print('Hello World')"
   ]
  },
  {
   "cell_type": "code",
   "execution_count": 3,
   "metadata": {},
   "outputs": [
    {
     "name": "stdout",
     "output_type": "stream",
     "text": [
      "Print\n",
      "Muiltiple\n",
      "lines\n"
     ]
    }
   ],
   "source": [
    "print('''Print\n",
    "Muiltiple\n",
    "lines''')"
   ]
  },
  {
   "cell_type": "code",
   "execution_count": 4,
   "metadata": {},
   "outputs": [
    {
     "name": "stdout",
     "output_type": "stream",
     "text": [
      "Hello \"W\"orld\n"
     ]
    }
   ],
   "source": [
    "print('Hello \"W\"orld')"
   ]
  },
  {
   "cell_type": "code",
   "execution_count": 5,
   "metadata": {},
   "outputs": [
    {
     "name": "stdout",
     "output_type": "stream",
     "text": [
      "10\n",
      "ten\n"
     ]
    }
   ],
   "source": [
    "a=10\n",
    "b=\"ten\"\n",
    "print(a)\n",
    "print(b)"
   ]
  },
  {
   "cell_type": "code",
   "execution_count": 7,
   "metadata": {},
   "outputs": [
    {
     "name": "stdout",
     "output_type": "stream",
     "text": [
      "The value of a is 10\n"
     ]
    }
   ],
   "source": [
    "a=10 \n",
    "print(f'The value of a is {a}')"
   ]
  },
  {
   "cell_type": "code",
   "execution_count": 10,
   "metadata": {},
   "outputs": [
    {
     "name": "stdout",
     "output_type": "stream",
     "text": [
      "a is 5\n",
      "a is 5\n",
      "a is 5\n",
      "a is 5\n"
     ]
    }
   ],
   "source": [
    "a=5\n",
    "print(f'a is {a}')\n",
    "print('a is {}'.format(a))\n",
    "print('a is '+str(a))\n",
    "print('a is %d'%(a))"
   ]
  },
  {
   "cell_type": "code",
   "execution_count": 11,
   "metadata": {},
   "outputs": [
    {
     "name": "stdout",
     "output_type": "stream",
     "text": [
      "The value is not greater than 5\n"
     ]
    }
   ],
   "source": [
    "a=5\n",
    "if a>5:\n",
    "    print('The value is greater than 5')\n",
    "else:\n",
    "    print('The value is not greater than 5')"
   ]
  },
  {
   "cell_type": "code",
   "execution_count": 12,
   "metadata": {},
   "outputs": [
    {
     "name": "stdout",
     "output_type": "stream",
     "text": [
      "The variable a is 5\n",
      "The value b is 6\n"
     ]
    }
   ],
   "source": [
    "a=5\n",
    "b=6\n",
    "if a==5:\n",
    "    print('The variable a is 5')\n",
    "    if b==6:\n",
    "        print('The value b is 6')\n"
   ]
  },
  {
   "cell_type": "code",
   "execution_count": 13,
   "metadata": {},
   "outputs": [
    {
     "name": "stdout",
     "output_type": "stream",
     "text": [
      "1\n",
      "2\n",
      "3\n",
      "4\n",
      "5\n",
      "6\n",
      "7\n",
      "8\n",
      "9\n"
     ]
    }
   ],
   "source": [
    "for x in range(1,10):\n",
    "    print(x)\n",
    "    "
   ]
  },
  {
   "cell_type": "code",
   "execution_count": 14,
   "metadata": {},
   "outputs": [
    {
     "name": "stdout",
     "output_type": "stream",
     "text": [
      "Adding 1,sum so far is 1\n",
      "Adding 2,sum so far is 3\n",
      "Adding 3,sum so far is 6\n",
      "Adding 4,sum so far is 10\n",
      "Adding 5,sum so far is 15\n",
      "Adding 6,sum so far is 21\n",
      "Adding 7,sum so far is 28\n",
      "Adding 8,sum so far is 36\n",
      "Adding 9,sum so far is 45\n",
      "Final sum:45\n"
     ]
    }
   ],
   "source": [
    "acc=0\n",
    "for x in range(1,10):\n",
    "    acc=acc+x\n",
    "    print(f'Adding {x},sum so far is {acc}')\n",
    "print(f'Final sum:{acc}')"
   ]
  },
  {
   "cell_type": "code",
   "execution_count": 18,
   "metadata": {},
   "outputs": [
    {
     "name": "stdout",
     "output_type": "stream",
     "text": [
      "['a', 'b', 'c', 'd', 'e']\n"
     ]
    }
   ],
   "source": [
    "c=['a','b','c','d']\n",
    "c.append('e')   #adding e \n",
    "print(c)"
   ]
  },
  {
   "cell_type": "code",
   "execution_count": 19,
   "metadata": {},
   "outputs": [
    {
     "name": "stdout",
     "output_type": "stream",
     "text": [
      "a-0\n",
      "b-1\n",
      "c-2\n",
      "d-3\n",
      "e-4\n"
     ]
    }
   ],
   "source": [
    "idx=0\n",
    "for s in c:\n",
    "    print(f'{s}-{idx}')\n",
    "    idx+=1"
   ]
  },
  {
   "cell_type": "code",
   "execution_count": 20,
   "metadata": {},
   "outputs": [
    {
     "name": "stdout",
     "output_type": "stream",
     "text": [
      "0:a\n",
      "1:b\n",
      "2:c\n",
      "3:d\n",
      "4:e\n"
     ]
    }
   ],
   "source": [
    "for i,c in enumerate(c):\n",
    "    print(f\"{i}:{c}\")"
   ]
  },
  {
   "cell_type": "code",
   "execution_count": 21,
   "metadata": {},
   "outputs": [
    {
     "name": "stdout",
     "output_type": "stream",
     "text": [
      "['a', 'b', 'c', 'c']\n"
     ]
    }
   ],
   "source": [
    "c=[]\n",
    "c.append('a')\n",
    "c.append('b')\n",
    "c.append('c')\n",
    "c.append('c')\n",
    "print(c)"
   ]
  },
  {
   "cell_type": "code",
   "execution_count": 22,
   "metadata": {},
   "outputs": [
    {
     "name": "stdout",
     "output_type": "stream",
     "text": [
      "{'a', 'b', 'c'}\n"
     ]
    }
   ],
   "source": [
    "c=set()\n",
    "c.add('a')\n",
    "c.add('b')\n",
    "c.add('c')\n",
    "c.add('c')\n",
    "print(c)"
   ]
  },
  {
   "cell_type": "code",
   "execution_count": 27,
   "metadata": {},
   "outputs": [
    {
     "name": "stdout",
     "output_type": "stream",
     "text": [
      "['a0', 'a', 'b', 'c']\n",
      "['a0', 'a', 'c']\n",
      "['a', 'c']\n"
     ]
    }
   ],
   "source": [
    "c=['a','b','c']\n",
    "c.insert(0,'a0')\n",
    "print(c)\n",
    "c.remove('b')\n",
    "print(c)\n",
    "del c[0]\n",
    "print(c)"
   ]
  },
  {
   "cell_type": "code",
   "execution_count": 28,
   "metadata": {},
   "outputs": [
    {
     "name": "stdout",
     "output_type": "stream",
     "text": [
      "{'name': 'Jackson', 'adress': 'HongKong'}\n",
      "Jackson\n",
      "Name is defined\n",
      "age undefined\n"
     ]
    }
   ],
   "source": [
    "d={'name':'Jackson','adress':'HongKong'}\n",
    "print(d)\n",
    "print(d['name'])\n",
    "if 'name' in d:\n",
    "    print('Name is defined')\n",
    "if 'age' in d:\n",
    "    print('Age is defined')\n",
    "else:\n",
    "    print('age undefined')\n",
    "    "
   ]
  },
  {
   "cell_type": "code",
   "execution_count": 30,
   "metadata": {},
   "outputs": [
    {
     "name": "stdout",
     "output_type": "stream",
     "text": [
      "Keys:dict_keys(['name', 'adress'])\n",
      "values:dict_values(['Jackson', 'HongKong'])\n"
     ]
    }
   ],
   "source": [
    "d={'name':'Jackson','adress':'HongKong'}\n",
    "print(f'Keys:{d.keys()}')\n",
    "print(f'values:{d.values()}')"
   ]
  },
  {
   "cell_type": "code",
   "execution_count": 33,
   "metadata": {},
   "outputs": [
    {
     "name": "stdout",
     "output_type": "stream",
     "text": [
      "[{'name': 'Jeff&Tracy Heaton', 'pets': ['Wynton', 'Cricket', 'Hickory']}, {'name': 'John Smith', 'pets': ['Rover']}, {'name': 'Jane Doe'}]\n",
      "Jeff&Tracy Heaton:['Wynton', 'Cricket', 'Hickory']\n",
      "John Smith:['Rover']\n",
      "Jane Doe:no pests\n"
     ]
    }
   ],
   "source": [
    "customers=[\n",
    "    {\"name\":\"Jeff&Tracy Heaton\",\"pets\":[\"Wynton\",\"Cricket\",\"Hickory\"]},\n",
    "    {\"name\":\"John Smith\",\"pets\":[\"Rover\"]},\n",
    "    {\"name\":\"Jane Doe\"}\n",
    "]\n",
    "print(customers)\n",
    "\n",
    "for customer in customers:\n",
    "    print(f\"{customer['name']}:{customer.get('pets','no pests')}\")\n",
    "    "
   ]
  },
  {
   "cell_type": "code",
   "execution_count": 41,
   "metadata": {},
   "outputs": [
    {
     "name": "stdout",
     "output_type": "stream",
     "text": [
      "<zip object at 0x1098a1960>\n"
     ]
    }
   ],
   "source": [
    "a=[1,2,3,4,5]\n",
    "b=[5,4,3,2,1]\n",
    "print(zip(a,b))"
   ]
  },
  {
   "cell_type": "code",
   "execution_count": 36,
   "metadata": {},
   "outputs": [
    {
     "name": "stdout",
     "output_type": "stream",
     "text": [
      "[(1, 5), (2, 4), (3, 3), (4, 2), (5, 1)]\n"
     ]
    }
   ],
   "source": [
    "a=[1,2,3,4,5]\n",
    "b=[5,4,3,2,1]\n",
    "print(list(zip(a,b)))"
   ]
  },
  {
   "cell_type": "code",
   "execution_count": 37,
   "metadata": {},
   "outputs": [
    {
     "name": "stdout",
     "output_type": "stream",
     "text": [
      "1-5\n",
      "2-4\n",
      "3-3\n",
      "4-2\n",
      "5-1\n"
     ]
    }
   ],
   "source": [
    "a=[1,2,3,4,5]\n",
    "b=[5,4,3,2,1]\n",
    "for x,y in zip(a,b):\n",
    "    print(f'{x}-{y}')"
   ]
  },
  {
   "cell_type": "code",
   "execution_count": 40,
   "metadata": {},
   "outputs": [
    {
     "data": {
      "text/plain": [
       "[(0, 'one'), (1, 'two'), (2, 'three'), (3, 'four'), (4, 'five')]"
      ]
     },
     "execution_count": 40,
     "metadata": {},
     "output_type": "execute_result"
    }
   ],
   "source": [
    "a=['one','two','three','four','five']\n",
    "list(enumerate(a))"
   ]
  },
  {
   "cell_type": "code",
   "execution_count": 43,
   "metadata": {},
   "outputs": [
    {
     "name": "stdout",
     "output_type": "stream",
     "text": [
      "[0, 10, 20, 30, 40, 50, 60, 70, 80, 90]\n"
     ]
    }
   ],
   "source": [
    "lst=[x*10 for x in range(10)]\n",
    "print(lst)"
   ]
  },
  {
   "cell_type": "code",
   "execution_count": 46,
   "metadata": {},
   "outputs": [
    {
     "name": "stdout",
     "output_type": "stream",
     "text": [
      "{'column-zero': 0, 'column-one': 1, 'column-two': 2, 'column-three': 3}\n"
     ]
    }
   ],
   "source": [
    "text=['column-zero','column-one','column-two','column-three']\n",
    "lookup={key:value for (value,key) in enumerate(text)}\n",
    "print(lookup)\n",
    "#A common use for this is to build up an index to symbolic column names"
   ]
  },
  {
   "cell_type": "code",
   "execution_count": null,
   "metadata": {},
   "outputs": [],
   "source": []
  }
 ],
 "metadata": {
  "kernelspec": {
   "display_name": "Python 3",
   "language": "python",
   "name": "python3"
  },
  "language_info": {
   "codemirror_mode": {
    "name": "ipython",
    "version": 3
   },
   "file_extension": ".py",
   "mimetype": "text/x-python",
   "name": "python",
   "nbconvert_exporter": "python",
   "pygments_lexer": "ipython3",
   "version": "3.7.7"
  }
 },
 "nbformat": 4,
 "nbformat_minor": 4
}
